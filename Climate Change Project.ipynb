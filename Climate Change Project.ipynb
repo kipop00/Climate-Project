{
 "cells": [
  {
   "cell_type": "code",
   "execution_count": 1,
   "id": "a8840d16-0972-4555-ab35-4263186af5f3",
   "metadata": {
    "tags": []
   },
   "outputs": [
    {
     "name": "stdout",
     "output_type": "stream",
     "text": [
      "   1885  -0.3  1.3  -0.1  2.5  3.5  7.8   9.5   8.1  6.8  3.1  2.3  0.3  0.61  \\\n",
      "0  1886  -1.5 -1.8  -0.1  2.2  4.7  7.5   9.8  10.0  8.1  6.9  3.0 -1.7 -0.96   \n",
      "1  1887  -0.7  0.2  -0.1  0.9  4.6  8.8  10.6   9.0  6.8  2.9  1.2 -0.7 -0.75   \n",
      "2  1888   0.2 -1.4  -0.9  1.7  4.6  7.3   8.7   8.8  7.0  3.8  4.2  1.6 -0.64   \n",
      "3  1889   0.3 -0.8   0.4  2.6  7.2  9.0   9.2   9.6  7.6  4.3  3.3  0.2  0.43   \n",
      "4  1890   1.9 -0.2   1.4  2.0  6.0  8.4   9.1   9.1  9.3  5.3  1.8 -2.3  0.68   \n",
      "\n",
      "   1.97  8.48  4.03  3.74  \n",
      "0  2.24  9.10  5.99  3.94  \n",
      "1  1.80  9.46  3.64  3.65  \n",
      "2  1.78  8.29  4.97  3.80  \n",
      "3  3.40  9.30  5.06  4.45  \n",
      "4  3.12  8.86  5.46  4.33  \n"
     ]
    }
   ],
   "source": [
    "import pandas as pd\n",
    "\n",
    "\n",
    " \"https://www.metoffice.gov.uk/pub/data/weather/uk/climate/datasets/Tmin/date/UK.txt\"\n",
    "\n",
    "\n",
    "df_minTemp_UK = pd.read_csv(\"https://www.metoffice.gov.uk/pub/data/weather/uk/climate/datasets/Tmin/date/UK.txt\", delim_whitespace=True, skiprows=7)\n",
    "df_maxTemp_UK = pd.read_csv(\"https://www.metoffice.gov.uk/pub/data/weather/uk/climate/datasets/Tmax/date/UK.txt\", delim_whitespace=True, skiprows=7)\n",
    "\n",
    "df_minTemp_NI = pd.read_csv(\"https://www.metoffice.gov.uk/pub/data/weather/uk/climate/datasets/Tmin/date/Northern_Ireland.txt\", delim_whitespace=True, skiprows=7)\n",
    "df_maxTemp_NI = pd.read_csv(\"https://www.metoffice.gov.uk/pub/data/weather/uk/climate/datasets/Tmax/date/UK.txt\", delim_whitespace=True, skiprows=7)\n",
    "\n",
    "\n"
   ]
  },
  {
   "cell_type": "code",
   "execution_count": null,
   "id": "fe74f94d-b837-4f8b-a468-75a65bd126df",
   "metadata": {},
   "outputs": [],
   "source": []
  }
 ],
 "metadata": {
  "kernelspec": {
   "display_name": "Python 3 (ipykernel)",
   "language": "python",
   "name": "python3"
  },
  "language_info": {
   "codemirror_mode": {
    "name": "ipython",
    "version": 3
   },
   "file_extension": ".py",
   "mimetype": "text/x-python",
   "name": "python",
   "nbconvert_exporter": "python",
   "pygments_lexer": "ipython3",
   "version": "3.11.5"
  }
 },
 "nbformat": 4,
 "nbformat_minor": 5
}
